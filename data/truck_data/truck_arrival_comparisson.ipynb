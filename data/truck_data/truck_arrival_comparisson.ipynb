{
 "cells": [
  {
   "cell_type": "code",
   "execution_count": 1,
   "metadata": {},
   "outputs": [],
   "source": [
    "import os\n",
    "import gzip\n",
    "import xml.etree.ElementTree as ET\n",
    "import pandas as pd"
   ]
  },
  {
   "cell_type": "code",
   "execution_count": 5,
   "metadata": {},
   "outputs": [],
   "source": [
    "def extract_data_from_xml(file_path):\n",
    "    with gzip.open(file_path, 'rt') as file:\n",
    "        tree = ET.parse(file)\n",
    "        root = tree.getroot()\n",
    "        events = []\n",
    "        for event in root.findall(\".//event[@type='vehicle leaves traffic']\"):\n",
    "            events.append({\n",
    "                \"time\": event.get(\"time\"),\n",
    "                \"link\": event.get(\"link\"),\n",
    "                \"vehicle\": event.get(\"vehicle\")\n",
    "            })\n",
    "    return events"
   ]
  },
  {
   "cell_type": "code",
   "execution_count": 11,
   "metadata": {},
   "outputs": [],
   "source": [
    "def process_directory(directory):\n",
    "    all_events = {}\n",
    "    for root_dir, sub_dirs, files in os.walk(directory):\n",
    "        for file in files:\n",
    "            if file.endswith(\".xml.gz\"):\n",
    "                print(file)  # add this line\n",
    "                file_path = os.path.join(root_dir, file)\n",
    "                seed = file.split('-')[-1][:3]\n",
    "                scenario = file.split('-')[0]\n",
    "                all_events[(seed, scenario)] = extract_data_from_xml(file_path)\n",
    "    return all_events"
   ]
  },
  {
   "cell_type": "code",
   "execution_count": 8,
   "metadata": {},
   "outputs": [],
   "source": [
    "df = pd.read_csv(\"arrival_times.csv\")"
   ]
  },
  {
   "cell_type": "code",
   "execution_count": 17,
   "metadata": {},
   "outputs": [
    {
     "name": "stdout",
     "output_type": "stream",
     "text": [
      "2-12-141_trucks.events.xml.gz\n",
      "3-12-141_trucks.events.xml.gz\n",
      "2-18-167_trucks.events.xml.gz\n",
      "3-18-167_trucks.events.xml.gz\n",
      "2-19-227_trucks.events.xml.gz\n",
      "3-19-227_trucks.events.xml.gz\n",
      "2-12-340_trucks.events.xml.gz\n",
      "3-12-340_trucks.events.xml.gz\n",
      "2-7-398_trucks.events.xml.gz\n",
      "3-7-398_trucks.events.xml.gz\n",
      "2-11-418_trucks.events.xml.gz\n",
      "3-11-418_trucks.events.xml.gz\n",
      "2-21-472_trucks.events.xml.gz\n",
      "3-21-472_trucks.events.xml.gz\n",
      "2-18-499_trucks.events.xml.gz\n",
      "3-18-499_trucks.events.xml.gz\n",
      "2-10-518_trucks.events.xml.gz\n",
      "3-10-518_trucks.events.xml.gz\n",
      "2-20-584_trucks.events.xml.gz\n",
      "3-20-584_trucks.events.xml.gz\n",
      "2-19-637_trucks.events.xml.gz\n",
      "3-19-637_trucks.events.xml.gz\n",
      "2-4-723_trucks.events.xml.gz\n",
      "3-4-723_trucks.events.xml.gz\n",
      "2-11-790_trucks.events.xml.gz\n",
      "3-11-790_trucks.events.xml.gz\n",
      "2-11-847_trucks.events.xml.gz\n",
      "3-11-847_trucks.events.xml.gz\n",
      "2-19-879_trucks.events.xml.gz\n",
      "3-19-879_trucks.events.xml.gz\n",
      "2-5-886_trucks.events.xml.gz\n",
      "3-5-886_trucks.events.xml.gz\n",
      "2-7-907_trucks.events.xml.gz\n",
      "3-7-907_trucks.events.xml.gz\n",
      "2-18-915_trucks.events.xml.gz\n",
      "3-18-915_trucks.events.xml.gz\n",
      "2-21-946_trucks.events.xml.gz\n",
      "3-21-946_trucks.events.xml.gz\n",
      "2-20-951.output_trucks.events.xml.gz\n",
      "3-20-951.output_trucks.events.xml.gz\n"
     ]
    }
   ],
   "source": [
    "all_events = process_directory(\"truck_events\")\n",
    "\n",
    "# Create columns if they don't exist\n",
    "for (seed, scenario), events in all_events.items():\n",
    "    for index, row in df[(df[\"Seed\"] == int(seed)) & (df[\"Scenario\"] == int(scenario))].iterrows():\n",
    "        incident_link = row[\"Incident Link\"]\n",
    "        matching_events = [event for event in events if event[\"link\"] == str(incident_link)]\n",
    "        \n",
    "        for i, event in enumerate(matching_events):\n",
    "            col_time = f\"{i+1}st Truck Arrival [HH:MM:SS]\"\n",
    "            col_vehicle = f\"{i+1}st vehicle_id\"\n",
    "            \n",
    "            if i == 1:\n",
    "                col_time = \"2nd Truck Arrival [HH:MM:SS]\"\n",
    "                col_vehicle = \"2nd vehicle_id\"\n",
    "            elif i == 2:\n",
    "                col_time = \"3rd Truck Arrival [HH:MM:SS]\"\n",
    "                col_vehicle = \"3rd vehicle_id\"\n",
    "            elif i == 3:\n",
    "                col_time = \"4th Truck Arrival [HH:MM:SS]\"\n",
    "                col_vehicle = \"4th vehicle_id\"\n",
    "            # You can continue with more elif blocks if you expect more trucks\n",
    "            \n",
    "            # Add the columns if they don't exist\n",
    "            if col_time not in df.columns:\n",
    "                df[col_time] = ''\n",
    "                df.insert(df.columns.get_loc(col_time) + 1, col_vehicle, '')  # add vehicle_id right after col_time\n",
    "                \n",
    "            df.at[index, col_time] = event[\"time\"]\n",
    "            df.at[index, col_vehicle] = event[\"vehicle\"]\n",
    "\n",
    "df.to_csv(\"arrival_times.csv\", index=False)\n"
   ]
  },
  {
   "cell_type": "code",
   "execution_count": 18,
   "metadata": {},
   "outputs": [],
   "source": [
    "def seconds_to_hms(seconds):\n",
    "    \"\"\"Convert seconds to HH:MM:SS format.\"\"\"\n",
    "    hours = seconds // 3600\n",
    "    minutes = (seconds % 3600) // 60\n",
    "    seconds = seconds % 60\n",
    "    return f\"{int(hours):02}:{int(minutes):02}:{int(seconds):02}\"\n",
    "\n",
    "# Load the CSV file into a DataFrame\n",
    "df = pd.read_csv(\"arrival_times.csv\")\n",
    "\n",
    "# Find all columns that contain \"Arrival\" in their name\n",
    "arrival_columns = [col for col in df.columns if \"Truck Arrival\" in col]\n",
    "\n",
    "# Convert the seconds to HH:MM:SS format\n",
    "for col in arrival_columns:\n",
    "    df[col] = df[col].apply(lambda x: seconds_to_hms(x) if pd.notnull(x) else x)\n",
    "\n",
    "# Save the DataFrame back to the CSV\n",
    "df.to_csv(\"arrival_times.csv\", index=False)"
   ]
  }
 ],
 "metadata": {
  "kernelspec": {
   "display_name": "base",
   "language": "python",
   "name": "python3"
  },
  "language_info": {
   "codemirror_mode": {
    "name": "ipython",
    "version": 3
   },
   "file_extension": ".py",
   "mimetype": "text/x-python",
   "name": "python",
   "nbconvert_exporter": "python",
   "pygments_lexer": "ipython3",
   "version": "3.11.6"
  },
  "orig_nbformat": 4
 },
 "nbformat": 4,
 "nbformat_minor": 2
}
